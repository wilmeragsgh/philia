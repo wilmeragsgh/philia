{
 "cells": [
  {
   "cell_type": "code",
   "execution_count": 1,
   "id": "797c7414-a642-41e7-950b-ab1109521c6f",
   "metadata": {},
   "outputs": [],
   "source": [
    "import pandas as pd"
   ]
  },
  {
   "cell_type": "code",
   "execution_count": 2,
   "id": "fab91f4c-38f6-44fa-898c-320a63cab572",
   "metadata": {},
   "outputs": [
    {
     "data": {
      "text/html": [
       "<div>\n",
       "<style scoped>\n",
       "    .dataframe tbody tr th:only-of-type {\n",
       "        vertical-align: middle;\n",
       "    }\n",
       "\n",
       "    .dataframe tbody tr th {\n",
       "        vertical-align: top;\n",
       "    }\n",
       "\n",
       "    .dataframe thead th {\n",
       "        text-align: right;\n",
       "    }\n",
       "</style>\n",
       "<table border=\"1\" class=\"dataframe\">\n",
       "  <thead>\n",
       "    <tr style=\"text-align: right;\">\n",
       "      <th></th>\n",
       "      <th>conv_id</th>\n",
       "      <th>utterance_idx</th>\n",
       "      <th>context</th>\n",
       "      <th>prompt</th>\n",
       "      <th>speaker_idx</th>\n",
       "      <th>utterance</th>\n",
       "      <th>selfeval</th>\n",
       "      <th>tags</th>\n",
       "    </tr>\n",
       "  </thead>\n",
       "  <tbody>\n",
       "    <tr>\n",
       "      <th>0</th>\n",
       "      <td>hit:0_conv:1</td>\n",
       "      <td>1</td>\n",
       "      <td>sentimental</td>\n",
       "      <td>I remember going to the fireworks with my best...</td>\n",
       "      <td>1</td>\n",
       "      <td>I remember going to see the fireworks with my ...</td>\n",
       "      <td>5|5|5_2|2|5</td>\n",
       "      <td>NaN</td>\n",
       "    </tr>\n",
       "    <tr>\n",
       "      <th>1</th>\n",
       "      <td>hit:0_conv:1</td>\n",
       "      <td>2</td>\n",
       "      <td>sentimental</td>\n",
       "      <td>I remember going to the fireworks with my best...</td>\n",
       "      <td>0</td>\n",
       "      <td>Was this a friend you were in love with_comma_...</td>\n",
       "      <td>5|5|5_2|2|5</td>\n",
       "      <td>NaN</td>\n",
       "    </tr>\n",
       "    <tr>\n",
       "      <th>2</th>\n",
       "      <td>hit:0_conv:1</td>\n",
       "      <td>3</td>\n",
       "      <td>sentimental</td>\n",
       "      <td>I remember going to the fireworks with my best...</td>\n",
       "      <td>1</td>\n",
       "      <td>This was a best friend. I miss her.</td>\n",
       "      <td>5|5|5_2|2|5</td>\n",
       "      <td>NaN</td>\n",
       "    </tr>\n",
       "    <tr>\n",
       "      <th>3</th>\n",
       "      <td>hit:0_conv:1</td>\n",
       "      <td>4</td>\n",
       "      <td>sentimental</td>\n",
       "      <td>I remember going to the fireworks with my best...</td>\n",
       "      <td>0</td>\n",
       "      <td>Where has she gone?</td>\n",
       "      <td>5|5|5_2|2|5</td>\n",
       "      <td>NaN</td>\n",
       "    </tr>\n",
       "    <tr>\n",
       "      <th>4</th>\n",
       "      <td>hit:0_conv:1</td>\n",
       "      <td>5</td>\n",
       "      <td>sentimental</td>\n",
       "      <td>I remember going to the fireworks with my best...</td>\n",
       "      <td>1</td>\n",
       "      <td>We no longer talk.</td>\n",
       "      <td>5|5|5_2|2|5</td>\n",
       "      <td>NaN</td>\n",
       "    </tr>\n",
       "  </tbody>\n",
       "</table>\n",
       "</div>"
      ],
      "text/plain": [
       "        conv_id  utterance_idx      context  \\\n",
       "0  hit:0_conv:1              1  sentimental   \n",
       "1  hit:0_conv:1              2  sentimental   \n",
       "2  hit:0_conv:1              3  sentimental   \n",
       "3  hit:0_conv:1              4  sentimental   \n",
       "4  hit:0_conv:1              5  sentimental   \n",
       "\n",
       "                                              prompt speaker_idx  \\\n",
       "0  I remember going to the fireworks with my best...           1   \n",
       "1  I remember going to the fireworks with my best...           0   \n",
       "2  I remember going to the fireworks with my best...           1   \n",
       "3  I remember going to the fireworks with my best...           0   \n",
       "4  I remember going to the fireworks with my best...           1   \n",
       "\n",
       "                                           utterance     selfeval tags  \n",
       "0  I remember going to see the fireworks with my ...  5|5|5_2|2|5  NaN  \n",
       "1  Was this a friend you were in love with_comma_...  5|5|5_2|2|5  NaN  \n",
       "2                This was a best friend. I miss her.  5|5|5_2|2|5  NaN  \n",
       "3                                Where has she gone?  5|5|5_2|2|5  NaN  \n",
       "4                                 We no longer talk.  5|5|5_2|2|5  NaN  "
      ]
     },
     "execution_count": 2,
     "metadata": {},
     "output_type": "execute_result"
    }
   ],
   "source": [
    "df = pd.read_csv(\"data/train.csv\", sep=\",\", encoding='utf-8', engine=\"python\", escapechar=\"\\\\\")\n",
    "df.head()"
   ]
  },
  {
   "cell_type": "code",
   "execution_count": 7,
   "id": "2ec30021-2830-4474-856f-0356f97c395f",
   "metadata": {},
   "outputs": [
    {
     "data": {
      "text/plain": [
       "<UNIGRAM>                   347\n",
       "<HI>                        169\n",
       "<POLITICAL>                 134\n",
       "<UNIGRAM> <NUMERAL>          82\n",
       "<IRREGULAR_COLON_FORMAT>     13\n",
       "<HI> <UNIGRAM>               10\n",
       "Name: tags, dtype: int64"
      ]
     },
     "execution_count": 7,
     "metadata": {},
     "output_type": "execute_result"
    }
   ],
   "source": [
    "df[\"tags\"].value_counts()"
   ]
  },
  {
   "cell_type": "code",
   "execution_count": 6,
   "id": "a2cb7d2b-1cca-4639-8993-7ea880884143",
   "metadata": {},
   "outputs": [
    {
     "data": {
      "text/plain": [
       "'5|5|5_2|2|5'"
      ]
     },
     "execution_count": 6,
     "metadata": {},
     "output_type": "execute_result"
    }
   ],
   "source": [
    "df[\"selfeval\"][0] # Corresponds to empathy, relevance, and understandability by two different evaluators"
   ]
  },
  {
   "cell_type": "code",
   "execution_count": 3,
   "id": "cb166fa8-4938-49cc-91fc-bfa2a47e8fd5",
   "metadata": {},
   "outputs": [],
   "source": [
    "import re\n",
    "def valid_eval(selfeval: str) -> bool:\n",
    "    \"\"\"Returns true if given value have a valid format for self evaluation\n",
    "    \n",
    "    Args:\n",
    "        selfeval (str): Candidate for self evaluation value.\n",
    "    \n",
    "    Returns:\n",
    "        (bool): Validity for given self evaluation value\n",
    "    \"\"\"\n",
    "    try:\n",
    "        val = bool(re.match(r\"^[0-5]\\|[0-5]\\|[0-5]_[0-5]\\|[0-5]\\|[0-5]$\",selfeval))\n",
    "    except TypeError:\n",
    "        val = False\n",
    "    return val\n",
    "    \n",
    "df_to_clean = df[~df[\"selfeval\"].map(valid_eval)]\n",
    "df_clean = df[df[\"selfeval\"].map(valid_eval)]"
   ]
  },
  {
   "cell_type": "code",
   "execution_count": 4,
   "id": "d90ad8aa-a6e2-4480-b921-6bce17decaad",
   "metadata": {},
   "outputs": [],
   "source": [
    "selfeval_sep = df_clean[\"selfeval\"].str.split(\"_\")\n",
    "selfeval_grouped = selfeval_sep.apply(lambda x: list(zip(x[0].split(\"|\"),x[1].split(\"|\"))))\n",
    "\n",
    "empathy_vals = selfeval_grouped.apply(lambda x: x[0])\n",
    "relevance_vals = selfeval_grouped.apply(lambda x: x[1])\n",
    "understandability_vals = selfeval_grouped.apply(lambda x: x[2])"
   ]
  },
  {
   "cell_type": "code",
   "execution_count": 5,
   "id": "1220ef15-4ca5-4ae7-9713-36185885e234",
   "metadata": {},
   "outputs": [],
   "source": [
    "empathy_vals = pd.concat([empathy_vals.apply(lambda x: int(x[0])),empathy_vals.apply(lambda x: int(x[1]))], axis=0)\n",
    "relevance_vals = pd.concat([relevance_vals.apply(lambda x: int(x[0])),relevance_vals.apply(lambda x: int(x[1]))], axis=0)\n",
    "understandability_vals = pd.concat([understandability_vals.apply(lambda x: int(x[0])),understandability_vals.apply(lambda x: int(x[1]))], axis=0)"
   ]
  },
  {
   "cell_type": "code",
   "execution_count": 40,
   "id": "4eef3531-2600-429a-8e6c-df51658822a2",
   "metadata": {},
   "outputs": [],
   "source": [
    "import seaborn as sns\n",
    "sns.set_style('darkgrid')\n",
    "sns.set(rc={'figure.figsize':(11.7,8.27)})"
   ]
  },
  {
   "cell_type": "code",
   "execution_count": 120,
   "id": "609898d4-7090-45c4-92b6-763beda669d3",
   "metadata": {},
   "outputs": [
    {
     "data": {
      "text/plain": [
       "<AxesSubplot:xlabel='selfeval', ylabel='Count'>"
      ]
     },
     "execution_count": 120,
     "metadata": {},
     "output_type": "execute_result"
    },
    {
     "data": {
      "image/png": "[encoded data removed]",
      "text/plain": [
       "<Figure size 842.4x595.44 with 1 Axes>"
      ]
     },
     "metadata": {},
     "output_type": "display_data"
    }
   ],
   "source": [
    "sns.histplot(empathy_vals, discrete=True)"
   ]
  },
  {
   "cell_type": "code",
   "execution_count": 20,
   "id": "911a52b1-e663-4a71-9bda-11272ed1786f",
   "metadata": {},
   "outputs": [
    {
     "data": {
      "text/plain": [
       "5    0.799755\n",
       "4    0.138414\n",
       "3    0.042623\n",
       "2    0.011123\n",
       "1    0.008036\n",
       "0    0.000048\n",
       "Name: selfeval, dtype: float64"
      ]
     },
     "execution_count": 20,
     "metadata": {},
     "output_type": "execute_result"
    }
   ],
   "source": [
    "empathy_vals.value_counts(normalize=True)"
   ]
  },
  {
   "cell_type": "code",
   "execution_count": 121,
   "id": "c3a404d2-01ff-4815-b7a2-260be2c804d4",
   "metadata": {},
   "outputs": [
    {
     "data": {
      "text/plain": [
       "<AxesSubplot:xlabel='selfeval', ylabel='Count'>"
      ]
     },
     "execution_count": 121,
     "metadata": {},
     "output_type": "execute_result"
    },
    {
     "data": {
      "image/png": "[encoded data removed]",
      "text/plain": [
       "<Figure size 842.4x595.44 with 1 Axes>"
      ]
     },
     "metadata": {},
     "output_type": "display_data"
    }
   ],
   "source": [
    "sns.histplot(relevance_vals, discrete=True)"
   ]
  },
  {
   "cell_type": "code",
   "execution_count": 122,
   "id": "122785b2-dce7-4701-ba60-71542b74ba02",
   "metadata": {},
   "outputs": [
    {
     "data": {
      "text/plain": [
       "<AxesSubplot:xlabel='selfeval', ylabel='Count'>"
      ]
     },
     "execution_count": 122,
     "metadata": {},
     "output_type": "execute_result"
    },
    {
     "data": {
      "image/png": "[encoded data removed]",
      "text/plain": [
       "<Figure size 842.4x595.44 with 1 Axes>"
      ]
     },
     "metadata": {},
     "output_type": "display_data"
    }
   ],
   "source": [
    "sns.histplot(understandability_vals, discrete=True)"
   ]
  },
  {
   "cell_type": "code",
   "execution_count": 133,
   "id": "47d1435e-ac04-431d-afee-1f79960773a5",
   "metadata": {},
   "outputs": [
    {
     "data": {
      "text/plain": [
       "<AxesSubplot:xlabel='Count', ylabel='context'>"
      ]
     },
     "execution_count": 133,
     "metadata": {},
     "output_type": "execute_result"
    },
    {
     "data": {
      "image/png": "[encoded data removed]",
      "text/plain": [
       "<Figure size 842.4x595.44 with 1 Axes>"
      ]
     },
     "metadata": {},
     "output_type": "display_data"
    }
   ],
   "source": [
    "sns.histplot(df, y=\"context\")"
   ]
  },
  {
   "cell_type": "code",
   "execution_count": 9,
   "id": "83ab001e-e87b-4a65-a23e-3cf309fb762c",
   "metadata": {},
   "outputs": [
    {
     "data": {
      "text/html": [
       "<div>\n",
       "<style scoped>\n",
       "    .dataframe tbody tr th:only-of-type {\n",
       "        vertical-align: middle;\n",
       "    }\n",
       "\n",
       "    .dataframe tbody tr th {\n",
       "        vertical-align: top;\n",
       "    }\n",
       "\n",
       "    .dataframe thead th {\n",
       "        text-align: right;\n",
       "    }\n",
       "</style>\n",
       "<table border=\"1\" class=\"dataframe\">\n",
       "  <thead>\n",
       "    <tr style=\"text-align: right;\">\n",
       "      <th></th>\n",
       "      <th>conv_id</th>\n",
       "      <th>utterance_idx</th>\n",
       "      <th>context</th>\n",
       "      <th>prompt</th>\n",
       "      <th>speaker_idx</th>\n",
       "      <th>utterance</th>\n",
       "      <th>selfeval</th>\n",
       "      <th>tags</th>\n",
       "    </tr>\n",
       "  </thead>\n",
       "  <tbody>\n",
       "    <tr>\n",
       "      <th>0</th>\n",
       "      <td>hit:0_conv:1</td>\n",
       "      <td>1</td>\n",
       "      <td>sentimental</td>\n",
       "      <td>I remember going to the fireworks with my best...</td>\n",
       "      <td>1</td>\n",
       "      <td>I remember going to see the fireworks with my ...</td>\n",
       "      <td>5|5|5_2|2|5</td>\n",
       "      <td>NaN</td>\n",
       "    </tr>\n",
       "    <tr>\n",
       "      <th>1</th>\n",
       "      <td>hit:0_conv:1</td>\n",
       "      <td>2</td>\n",
       "      <td>sentimental</td>\n",
       "      <td>I remember going to the fireworks with my best...</td>\n",
       "      <td>0</td>\n",
       "      <td>Was this a friend you were in love with_comma_...</td>\n",
       "      <td>5|5|5_2|2|5</td>\n",
       "      <td>NaN</td>\n",
       "    </tr>\n",
       "    <tr>\n",
       "      <th>2</th>\n",
       "      <td>hit:0_conv:1</td>\n",
       "      <td>3</td>\n",
       "      <td>sentimental</td>\n",
       "      <td>I remember going to the fireworks with my best...</td>\n",
       "      <td>1</td>\n",
       "      <td>This was a best friend. I miss her.</td>\n",
       "      <td>5|5|5_2|2|5</td>\n",
       "      <td>NaN</td>\n",
       "    </tr>\n",
       "    <tr>\n",
       "      <th>3</th>\n",
       "      <td>hit:0_conv:1</td>\n",
       "      <td>4</td>\n",
       "      <td>sentimental</td>\n",
       "      <td>I remember going to the fireworks with my best...</td>\n",
       "      <td>0</td>\n",
       "      <td>Where has she gone?</td>\n",
       "      <td>5|5|5_2|2|5</td>\n",
       "      <td>NaN</td>\n",
       "    </tr>\n",
       "    <tr>\n",
       "      <th>4</th>\n",
       "      <td>hit:0_conv:1</td>\n",
       "      <td>5</td>\n",
       "      <td>sentimental</td>\n",
       "      <td>I remember going to the fireworks with my best...</td>\n",
       "      <td>1</td>\n",
       "      <td>We no longer talk.</td>\n",
       "      <td>5|5|5_2|2|5</td>\n",
       "      <td>NaN</td>\n",
       "    </tr>\n",
       "    <tr>\n",
       "      <th>5</th>\n",
       "      <td>hit:0_conv:1</td>\n",
       "      <td>6</td>\n",
       "      <td>sentimental</td>\n",
       "      <td>I remember going to the fireworks with my best...</td>\n",
       "      <td>0</td>\n",
       "      <td>Oh was this something that happened because of...</td>\n",
       "      <td>5|5|5_2|2|5</td>\n",
       "      <td>NaN</td>\n",
       "    </tr>\n",
       "    <tr>\n",
       "      <th>6</th>\n",
       "      <td>hit:1_conv:2</td>\n",
       "      <td>1</td>\n",
       "      <td>afraid</td>\n",
       "      <td>i used to scare for darkness</td>\n",
       "      <td>2</td>\n",
       "      <td>it feels like hitting to blank wall when i se...</td>\n",
       "      <td>4|3|4_3|5|5</td>\n",
       "      <td>NaN</td>\n",
       "    </tr>\n",
       "    <tr>\n",
       "      <th>7</th>\n",
       "      <td>hit:1_conv:2</td>\n",
       "      <td>2</td>\n",
       "      <td>afraid</td>\n",
       "      <td>i used to scare for darkness</td>\n",
       "      <td>3</td>\n",
       "      <td>Oh ya? I don't really see how</td>\n",
       "      <td>4|3|4_3|5|5</td>\n",
       "      <td>NaN</td>\n",
       "    </tr>\n",
       "    <tr>\n",
       "      <th>8</th>\n",
       "      <td>hit:1_conv:2</td>\n",
       "      <td>3</td>\n",
       "      <td>afraid</td>\n",
       "      <td>i used to scare for darkness</td>\n",
       "      <td>2</td>\n",
       "      <td>dont you feel so.. its a wonder</td>\n",
       "      <td>4|3|4_3|5|5</td>\n",
       "      <td>NaN</td>\n",
       "    </tr>\n",
       "    <tr>\n",
       "      <th>9</th>\n",
       "      <td>hit:1_conv:2</td>\n",
       "      <td>4</td>\n",
       "      <td>afraid</td>\n",
       "      <td>i used to scare for darkness</td>\n",
       "      <td>3</td>\n",
       "      <td>I do actually hit blank walls a lot of times b...</td>\n",
       "      <td>4|3|4_3|5|5</td>\n",
       "      <td>NaN</td>\n",
       "    </tr>\n",
       "    <tr>\n",
       "      <th>10</th>\n",
       "      <td>hit:1_conv:2</td>\n",
       "      <td>5</td>\n",
       "      <td>afraid</td>\n",
       "      <td>i used to scare for darkness</td>\n",
       "      <td>2</td>\n",
       "      <td>i virtually thought so.. and i used to get sw...</td>\n",
       "      <td>4|3|4_3|5|5</td>\n",
       "      <td>NaN</td>\n",
       "    </tr>\n",
       "    <tr>\n",
       "      <th>11</th>\n",
       "      <td>hit:1_conv:2</td>\n",
       "      <td>6</td>\n",
       "      <td>afraid</td>\n",
       "      <td>i used to scare for darkness</td>\n",
       "      <td>3</td>\n",
       "      <td>Wait what are sweatings</td>\n",
       "      <td>4|3|4_3|5|5</td>\n",
       "      <td>NaN</td>\n",
       "    </tr>\n",
       "    <tr>\n",
       "      <th>12</th>\n",
       "      <td>hit:1_conv:3</td>\n",
       "      <td>1</td>\n",
       "      <td>proud</td>\n",
       "      <td>I showed a guy how to run a good bead in weldi...</td>\n",
       "      <td>3</td>\n",
       "      <td>Hi how are you doing today</td>\n",
       "      <td>3|5|5_4|3|4</td>\n",
       "      <td>&lt;HI&gt;</td>\n",
       "    </tr>\n",
       "    <tr>\n",
       "      <th>13</th>\n",
       "      <td>hit:1_conv:3</td>\n",
       "      <td>2</td>\n",
       "      <td>proud</td>\n",
       "      <td>I showed a guy how to run a good bead in weldi...</td>\n",
       "      <td>2</td>\n",
       "      <td>doing good.. how about you</td>\n",
       "      <td>3|5|5_4|3|4</td>\n",
       "      <td>NaN</td>\n",
       "    </tr>\n",
       "    <tr>\n",
       "      <th>14</th>\n",
       "      <td>hit:1_conv:3</td>\n",
       "      <td>3</td>\n",
       "      <td>proud</td>\n",
       "      <td>I showed a guy how to run a good bead in weldi...</td>\n",
       "      <td>3</td>\n",
       "      <td>Im good_comma_ trying to understand how someon...</td>\n",
       "      <td>3|5|5_4|3|4</td>\n",
       "      <td>NaN</td>\n",
       "    </tr>\n",
       "    <tr>\n",
       "      <th>15</th>\n",
       "      <td>hit:1_conv:3</td>\n",
       "      <td>4</td>\n",
       "      <td>proud</td>\n",
       "      <td>I showed a guy how to run a good bead in weldi...</td>\n",
       "      <td>2</td>\n",
       "      <td>it's quite strange that you didnt imagine it</td>\n",
       "      <td>3|5|5_4|3|4</td>\n",
       "      <td>NaN</td>\n",
       "    </tr>\n",
       "    <tr>\n",
       "      <th>16</th>\n",
       "      <td>hit:1_conv:3</td>\n",
       "      <td>5</td>\n",
       "      <td>proud</td>\n",
       "      <td>I showed a guy how to run a good bead in weldi...</td>\n",
       "      <td>3</td>\n",
       "      <td>i dont imagine feeling a lot_comma_ maybe your...</td>\n",
       "      <td>3|5|5_4|3|4</td>\n",
       "      <td>NaN</td>\n",
       "    </tr>\n",
       "    <tr>\n",
       "      <th>17</th>\n",
       "      <td>hit:2_conv:4</td>\n",
       "      <td>1</td>\n",
       "      <td>faithful</td>\n",
       "      <td>I have always been loyal to my wife.</td>\n",
       "      <td>4</td>\n",
       "      <td>I have never cheated on my wife.</td>\n",
       "      <td>3|3|5_2|4|4</td>\n",
       "      <td>NaN</td>\n",
       "    </tr>\n",
       "    <tr>\n",
       "      <th>18</th>\n",
       "      <td>hit:2_conv:4</td>\n",
       "      <td>2</td>\n",
       "      <td>faithful</td>\n",
       "      <td>I have always been loyal to my wife.</td>\n",
       "      <td>5</td>\n",
       "      <td>And thats something you should never do_comma_...</td>\n",
       "      <td>3|3|5_2|4|4</td>\n",
       "      <td>NaN</td>\n",
       "    </tr>\n",
       "    <tr>\n",
       "      <th>19</th>\n",
       "      <td>hit:2_conv:4</td>\n",
       "      <td>3</td>\n",
       "      <td>faithful</td>\n",
       "      <td>I have always been loyal to my wife.</td>\n",
       "      <td>4</td>\n",
       "      <td>Yea it hasn't been easy but I am proud I haven't</td>\n",
       "      <td>3|3|5_2|4|4</td>\n",
       "      <td>NaN</td>\n",
       "    </tr>\n",
       "    <tr>\n",
       "      <th>20</th>\n",
       "      <td>hit:2_conv:4</td>\n",
       "      <td>4</td>\n",
       "      <td>faithful</td>\n",
       "      <td>I have always been loyal to my wife.</td>\n",
       "      <td>5</td>\n",
       "      <td>What do you mean it hasn't been easy? How clos...</td>\n",
       "      <td>3|3|5_2|4|4</td>\n",
       "      <td>NaN</td>\n",
       "    </tr>\n",
       "    <tr>\n",
       "      <th>21</th>\n",
       "      <td>hit:2_conv:5</td>\n",
       "      <td>1</td>\n",
       "      <td>terrified</td>\n",
       "      <td>A recent job interview that I had made me feel...</td>\n",
       "      <td>5</td>\n",
       "      <td>Job interviews always make me sweat bullets_co...</td>\n",
       "      <td>2|4|4_3|3|5</td>\n",
       "      <td>NaN</td>\n",
       "    </tr>\n",
       "    <tr>\n",
       "      <th>22</th>\n",
       "      <td>hit:2_conv:5</td>\n",
       "      <td>2</td>\n",
       "      <td>terrified</td>\n",
       "      <td>A recent job interview that I had made me feel...</td>\n",
       "      <td>4</td>\n",
       "      <td>Don't be nervous. Just be prepared.</td>\n",
       "      <td>2|4|4_3|3|5</td>\n",
       "      <td>NaN</td>\n",
       "    </tr>\n",
       "    <tr>\n",
       "      <th>23</th>\n",
       "      <td>hit:2_conv:5</td>\n",
       "      <td>3</td>\n",
       "      <td>terrified</td>\n",
       "      <td>A recent job interview that I had made me feel...</td>\n",
       "      <td>5</td>\n",
       "      <td>I feel like getting prepared and then having a...</td>\n",
       "      <td>2|4|4_3|3|5</td>\n",
       "      <td>NaN</td>\n",
       "    </tr>\n",
       "    <tr>\n",
       "      <th>24</th>\n",
       "      <td>hit:2_conv:5</td>\n",
       "      <td>4</td>\n",
       "      <td>terrified</td>\n",
       "      <td>A recent job interview that I had made me feel...</td>\n",
       "      <td>4</td>\n",
       "      <td>Yes but if you stay calm it will be ok.</td>\n",
       "      <td>2|4|4_3|3|5</td>\n",
       "      <td>NaN</td>\n",
       "    </tr>\n",
       "  </tbody>\n",
       "</table>\n",
       "</div>"
      ],
      "text/plain": [
       "         conv_id  utterance_idx      context  \\\n",
       "0   hit:0_conv:1              1  sentimental   \n",
       "1   hit:0_conv:1              2  sentimental   \n",
       "2   hit:0_conv:1              3  sentimental   \n",
       "3   hit:0_conv:1              4  sentimental   \n",
       "4   hit:0_conv:1              5  sentimental   \n",
       "5   hit:0_conv:1              6  sentimental   \n",
       "6   hit:1_conv:2              1       afraid   \n",
       "7   hit:1_conv:2              2       afraid   \n",
       "8   hit:1_conv:2              3       afraid   \n",
       "9   hit:1_conv:2              4       afraid   \n",
       "10  hit:1_conv:2              5       afraid   \n",
       "11  hit:1_conv:2              6       afraid   \n",
       "12  hit:1_conv:3              1        proud   \n",
       "13  hit:1_conv:3              2        proud   \n",
       "14  hit:1_conv:3              3        proud   \n",
       "15  hit:1_conv:3              4        proud   \n",
       "16  hit:1_conv:3              5        proud   \n",
       "17  hit:2_conv:4              1     faithful   \n",
       "18  hit:2_conv:4              2     faithful   \n",
       "19  hit:2_conv:4              3     faithful   \n",
       "20  hit:2_conv:4              4     faithful   \n",
       "21  hit:2_conv:5              1    terrified   \n",
       "22  hit:2_conv:5              2    terrified   \n",
       "23  hit:2_conv:5              3    terrified   \n",
       "24  hit:2_conv:5              4    terrified   \n",
       "\n",
       "                                               prompt speaker_idx  \\\n",
       "0   I remember going to the fireworks with my best...           1   \n",
       "1   I remember going to the fireworks with my best...           0   \n",
       "2   I remember going to the fireworks with my best...           1   \n",
       "3   I remember going to the fireworks with my best...           0   \n",
       "4   I remember going to the fireworks with my best...           1   \n",
       "5   I remember going to the fireworks with my best...           0   \n",
       "6                        i used to scare for darkness           2   \n",
       "7                        i used to scare for darkness           3   \n",
       "8                        i used to scare for darkness           2   \n",
       "9                        i used to scare for darkness           3   \n",
       "10                       i used to scare for darkness           2   \n",
       "11                       i used to scare for darkness           3   \n",
       "12  I showed a guy how to run a good bead in weldi...           3   \n",
       "13  I showed a guy how to run a good bead in weldi...           2   \n",
       "14  I showed a guy how to run a good bead in weldi...           3   \n",
       "15  I showed a guy how to run a good bead in weldi...           2   \n",
       "16  I showed a guy how to run a good bead in weldi...           3   \n",
       "17               I have always been loyal to my wife.           4   \n",
       "18               I have always been loyal to my wife.           5   \n",
       "19               I have always been loyal to my wife.           4   \n",
       "20               I have always been loyal to my wife.           5   \n",
       "21  A recent job interview that I had made me feel...           5   \n",
       "22  A recent job interview that I had made me feel...           4   \n",
       "23  A recent job interview that I had made me feel...           5   \n",
       "24  A recent job interview that I had made me feel...           4   \n",
       "\n",
       "                                            utterance     selfeval  tags  \n",
       "0   I remember going to see the fireworks with my ...  5|5|5_2|2|5   NaN  \n",
       "1   Was this a friend you were in love with_comma_...  5|5|5_2|2|5   NaN  \n",
       "2                 This was a best friend. I miss her.  5|5|5_2|2|5   NaN  \n",
       "3                                 Where has she gone?  5|5|5_2|2|5   NaN  \n",
       "4                                  We no longer talk.  5|5|5_2|2|5   NaN  \n",
       "5   Oh was this something that happened because of...  5|5|5_2|2|5   NaN  \n",
       "6    it feels like hitting to blank wall when i se...  4|3|4_3|5|5   NaN  \n",
       "7                       Oh ya? I don't really see how  4|3|4_3|5|5   NaN  \n",
       "8                    dont you feel so.. its a wonder   4|3|4_3|5|5   NaN  \n",
       "9   I do actually hit blank walls a lot of times b...  4|3|4_3|5|5   NaN  \n",
       "10   i virtually thought so.. and i used to get sw...  4|3|4_3|5|5   NaN  \n",
       "11                            Wait what are sweatings  4|3|4_3|5|5   NaN  \n",
       "12                         Hi how are you doing today  3|5|5_4|3|4  <HI>  \n",
       "13                         doing good.. how about you  3|5|5_4|3|4   NaN  \n",
       "14  Im good_comma_ trying to understand how someon...  3|5|5_4|3|4   NaN  \n",
       "15       it's quite strange that you didnt imagine it  3|5|5_4|3|4   NaN  \n",
       "16  i dont imagine feeling a lot_comma_ maybe your...  3|5|5_4|3|4   NaN  \n",
       "17                   I have never cheated on my wife.  3|3|5_2|4|4   NaN  \n",
       "18  And thats something you should never do_comma_...  3|3|5_2|4|4   NaN  \n",
       "19   Yea it hasn't been easy but I am proud I haven't  3|3|5_2|4|4   NaN  \n",
       "20  What do you mean it hasn't been easy? How clos...  3|3|5_2|4|4   NaN  \n",
       "21  Job interviews always make me sweat bullets_co...  2|4|4_3|3|5   NaN  \n",
       "22                Don't be nervous. Just be prepared.  2|4|4_3|3|5   NaN  \n",
       "23  I feel like getting prepared and then having a...  2|4|4_3|3|5   NaN  \n",
       "24            Yes but if you stay calm it will be ok.  2|4|4_3|3|5   NaN  "
      ]
     },
     "execution_count": 9,
     "metadata": {},
     "output_type": "execute_result"
    }
   ],
   "source": [
    "#df[df[\"conv_id\"] == \"hit:0_conv:1\"]\n",
    "df.iloc[:25]"
   ]
  },
  {
   "cell_type": "markdown",
   "id": "3bfdfc96-14a5-4b95-9ea3-efb5460e1e06",
   "metadata": {},
   "source": [
    "## Filter emotion classification data"
   ]
  },
  {
   "cell_type": "code",
   "execution_count": null,
   "id": "d656243b-fb36-4249-bebc-ba26da931cec",
   "metadata": {},
   "outputs": [],
   "source": [
    "root_speaker = {}\n",
    "for ix, row in df[df[\"utterance_idx\"] == 1][[\"conv_id\", \"speaker_idx\"]].iterrows():\n",
    "    root_speaker[row.conv_id] = row.speaker_idx\n"
   ]
  },
  {
   "cell_type": "code",
   "execution_count": 27,
   "id": "0d9dbcc2-b64a-4302-a312-f3b3e1cd9128",
   "metadata": {},
   "outputs": [],
   "source": [
    "df_context = pd.DataFrame({\"utterance\": [], \"context\": []})\n",
    "for conv_id, speaker_idx in root_speaker.items():\n",
    "    sample = df[(df[\"conv_id\"] == conv_id) & (df[\"speaker_idx\"] == speaker_idx)][[\"utterance\",\"context\"]]\n",
    "    df_context = pd.concat([df_context, sample], axis=0)"
   ]
  },
  {
   "cell_type": "code",
   "execution_count": 29,
   "id": "ade806c4-f377-402e-810f-87f70d12dd61",
   "metadata": {},
   "outputs": [],
   "source": [
    "df_context.to_csv(\"data/preprocessed/emotion_detection.csv\", index=False)"
   ]
  },
  {
   "cell_type": "code",
   "execution_count": 6,
   "id": "3c5106ad-8870-4a1e-a34a-cd5737151b09",
   "metadata": {},
   "outputs": [
    {
     "data": {
      "text/html": [
       "<div>\n",
       "<style scoped>\n",
       "    .dataframe tbody tr th:only-of-type {\n",
       "        vertical-align: middle;\n",
       "    }\n",
       "\n",
       "    .dataframe tbody tr th {\n",
       "        vertical-align: top;\n",
       "    }\n",
       "\n",
       "    .dataframe thead th {\n",
       "        text-align: right;\n",
       "    }\n",
       "</style>\n",
       "<table border=\"1\" class=\"dataframe\">\n",
       "  <thead>\n",
       "    <tr style=\"text-align: right;\">\n",
       "      <th></th>\n",
       "      <th>utterance</th>\n",
       "      <th>context</th>\n",
       "    </tr>\n",
       "  </thead>\n",
       "  <tbody>\n",
       "    <tr>\n",
       "      <th>0</th>\n",
       "      <td>I remember going to see the fireworks with my ...</td>\n",
       "      <td>sentimental</td>\n",
       "    </tr>\n",
       "    <tr>\n",
       "      <th>1</th>\n",
       "      <td>This was a best friend. I miss her.</td>\n",
       "      <td>sentimental</td>\n",
       "    </tr>\n",
       "    <tr>\n",
       "      <th>2</th>\n",
       "      <td>We no longer talk.</td>\n",
       "      <td>sentimental</td>\n",
       "    </tr>\n",
       "    <tr>\n",
       "      <th>3</th>\n",
       "      <td>it feels like hitting to blank wall when i se...</td>\n",
       "      <td>afraid</td>\n",
       "    </tr>\n",
       "    <tr>\n",
       "      <th>4</th>\n",
       "      <td>dont you feel so.. its a wonder</td>\n",
       "      <td>afraid</td>\n",
       "    </tr>\n",
       "  </tbody>\n",
       "</table>\n",
       "</div>"
      ],
      "text/plain": [
       "                                           utterance      context\n",
       "0  I remember going to see the fireworks with my ...  sentimental\n",
       "1                This was a best friend. I miss her.  sentimental\n",
       "2                                 We no longer talk.  sentimental\n",
       "3   it feels like hitting to blank wall when i se...       afraid\n",
       "4                   dont you feel so.. its a wonder        afraid"
      ]
     },
     "execution_count": 6,
     "metadata": {},
     "output_type": "execute_result"
    }
   ],
   "source": [
    "import pandas as pd\n",
    "df_context = pd.read_csv(\"data/preprocessed/emotion_detection.csv\")\n",
    "df_context.head()"
   ]
  },
  {
   "cell_type": "code",
   "execution_count": 4,
   "id": "bbf281d7-e180-4905-bd9e-11a460476611",
   "metadata": {},
   "outputs": [
    {
     "data": {
      "text/plain": [
       "32"
      ]
     },
     "execution_count": 4,
     "metadata": {},
     "output_type": "execute_result"
    }
   ],
   "source": [
    "len(set(df_context[\"context\"]))"
   ]
  },
  {
   "cell_type": "code",
   "execution_count": 7,
   "id": "ae5edc3e-8da1-4f84-acbe-cf6b34c633ab",
   "metadata": {},
   "outputs": [
    {
     "data": {
      "text/plain": [
       "(43913, 2)"
      ]
     },
     "execution_count": 7,
     "metadata": {},
     "output_type": "execute_result"
    }
   ],
   "source": [
    "df_context.shape"
   ]
  },
  {
   "cell_type": "markdown",
   "id": "f813b180-3a41-477e-80c6-bd63dca95937",
   "metadata": {},
   "source": [
    "## Filter empathetic responses"
   ]
  },
  {
   "cell_type": "code",
   "execution_count": 10,
   "id": "8dc52905-afd8-4340-9dde-6305286a5545",
   "metadata": {},
   "outputs": [
    {
     "data": {
      "text/plain": [
       "(82936, 8)"
      ]
     },
     "execution_count": 10,
     "metadata": {},
     "output_type": "execute_result"
    }
   ],
   "source": [
    "df_clean.shape"
   ]
  },
  {
   "cell_type": "code",
   "execution_count": 11,
   "id": "d6b189b7-b869-4ce2-a820-4a16c76c75e4",
   "metadata": {},
   "outputs": [
    {
     "data": {
      "text/html": [
       "<div>\n",
       "<style scoped>\n",
       "    .dataframe tbody tr th:only-of-type {\n",
       "        vertical-align: middle;\n",
       "    }\n",
       "\n",
       "    .dataframe tbody tr th {\n",
       "        vertical-align: top;\n",
       "    }\n",
       "\n",
       "    .dataframe thead th {\n",
       "        text-align: right;\n",
       "    }\n",
       "</style>\n",
       "<table border=\"1\" class=\"dataframe\">\n",
       "  <thead>\n",
       "    <tr style=\"text-align: right;\">\n",
       "      <th></th>\n",
       "      <th>conv_id</th>\n",
       "      <th>utterance_idx</th>\n",
       "      <th>context</th>\n",
       "      <th>prompt</th>\n",
       "      <th>speaker_idx</th>\n",
       "      <th>utterance</th>\n",
       "      <th>selfeval</th>\n",
       "      <th>tags</th>\n",
       "    </tr>\n",
       "  </thead>\n",
       "  <tbody>\n",
       "    <tr>\n",
       "      <th>0</th>\n",
       "      <td>hit:0_conv:1</td>\n",
       "      <td>1</td>\n",
       "      <td>sentimental</td>\n",
       "      <td>I remember going to the fireworks with my best...</td>\n",
       "      <td>1</td>\n",
       "      <td>I remember going to see the fireworks with my ...</td>\n",
       "      <td>5|5|5_2|2|5</td>\n",
       "      <td>NaN</td>\n",
       "    </tr>\n",
       "    <tr>\n",
       "      <th>1</th>\n",
       "      <td>hit:0_conv:1</td>\n",
       "      <td>2</td>\n",
       "      <td>sentimental</td>\n",
       "      <td>I remember going to the fireworks with my best...</td>\n",
       "      <td>0</td>\n",
       "      <td>Was this a friend you were in love with_comma_...</td>\n",
       "      <td>5|5|5_2|2|5</td>\n",
       "      <td>NaN</td>\n",
       "    </tr>\n",
       "    <tr>\n",
       "      <th>2</th>\n",
       "      <td>hit:0_conv:1</td>\n",
       "      <td>3</td>\n",
       "      <td>sentimental</td>\n",
       "      <td>I remember going to the fireworks with my best...</td>\n",
       "      <td>1</td>\n",
       "      <td>This was a best friend. I miss her.</td>\n",
       "      <td>5|5|5_2|2|5</td>\n",
       "      <td>NaN</td>\n",
       "    </tr>\n",
       "    <tr>\n",
       "      <th>3</th>\n",
       "      <td>hit:0_conv:1</td>\n",
       "      <td>4</td>\n",
       "      <td>sentimental</td>\n",
       "      <td>I remember going to the fireworks with my best...</td>\n",
       "      <td>0</td>\n",
       "      <td>Where has she gone?</td>\n",
       "      <td>5|5|5_2|2|5</td>\n",
       "      <td>NaN</td>\n",
       "    </tr>\n",
       "    <tr>\n",
       "      <th>4</th>\n",
       "      <td>hit:0_conv:1</td>\n",
       "      <td>5</td>\n",
       "      <td>sentimental</td>\n",
       "      <td>I remember going to the fireworks with my best...</td>\n",
       "      <td>1</td>\n",
       "      <td>We no longer talk.</td>\n",
       "      <td>5|5|5_2|2|5</td>\n",
       "      <td>NaN</td>\n",
       "    </tr>\n",
       "  </tbody>\n",
       "</table>\n",
       "</div>"
      ],
      "text/plain": [
       "        conv_id  utterance_idx      context  \\\n",
       "0  hit:0_conv:1              1  sentimental   \n",
       "1  hit:0_conv:1              2  sentimental   \n",
       "2  hit:0_conv:1              3  sentimental   \n",
       "3  hit:0_conv:1              4  sentimental   \n",
       "4  hit:0_conv:1              5  sentimental   \n",
       "\n",
       "                                              prompt speaker_idx  \\\n",
       "0  I remember going to the fireworks with my best...           1   \n",
       "1  I remember going to the fireworks with my best...           0   \n",
       "2  I remember going to the fireworks with my best...           1   \n",
       "3  I remember going to the fireworks with my best...           0   \n",
       "4  I remember going to the fireworks with my best...           1   \n",
       "\n",
       "                                           utterance     selfeval tags  \n",
       "0  I remember going to see the fireworks with my ...  5|5|5_2|2|5  NaN  \n",
       "1  Was this a friend you were in love with_comma_...  5|5|5_2|2|5  NaN  \n",
       "2                This was a best friend. I miss her.  5|5|5_2|2|5  NaN  \n",
       "3                                Where has she gone?  5|5|5_2|2|5  NaN  \n",
       "4                                 We no longer talk.  5|5|5_2|2|5  NaN  "
      ]
     },
     "execution_count": 11,
     "metadata": {},
     "output_type": "execute_result"
    }
   ],
   "source": [
    "df_clean.head()"
   ]
  },
  {
   "cell_type": "code",
   "execution_count": 25,
   "id": "f2c04345-b923-49a7-a444-68004117dd13",
   "metadata": {},
   "outputs": [
    {
     "name": "stderr",
     "output_type": "stream",
     "text": [
      "<ipython-input-25-cc848f8d52b0>:4: SettingWithCopyWarning: \n",
      "A value is trying to be set on a copy of a slice from a DataFrame.\n",
      "Try using .loc[row_indexer,col_indexer] = value instead\n",
      "\n",
      "See the caveats in the documentation: https://pandas.pydata.org/pandas-docs/stable/user_guide/indexing.html#returning-a-view-versus-a-copy\n",
      "  df_clean[\"selfeval_grouped\"] = selfeval_grouped\n"
     ]
    }
   ],
   "source": [
    "selfeval_sep = df_clean[\"selfeval\"].str.split(\"_\")\n",
    "selfeval_grouped = selfeval_sep.apply(lambda x: min(list(zip(x[0].split(\"|\"),x[1].split(\"|\")))[0]))\n",
    "\n",
    "df_clean[\"selfeval_grouped\"] = selfeval_grouped"
   ]
  },
  {
   "cell_type": "code",
   "execution_count": 24,
   "id": "5404d34d-801e-4407-9d3e-2a6c9676c21a",
   "metadata": {},
   "outputs": [
    {
     "data": {
      "text/plain": [
       "27176"
      ]
     },
     "execution_count": 24,
     "metadata": {},
     "output_type": "execute_result"
    }
   ],
   "source": [
    "selfeval_grouped_diff = selfeval_sep.apply(lambda x: list(zip(x[0].split(\"|\"),x[1].split(\"|\")))[0])\n",
    "diff_eval = selfeval_grouped_diff.apply(lambda x: abs(int(x[0]) - int(x[1])))\n",
    "sum(diff_eval > 0)"
   ]
  },
  {
   "cell_type": "code",
   "execution_count": 31,
   "id": "8e04d310-2749-4273-ac19-75bf840c5096",
   "metadata": {},
   "outputs": [],
   "source": [
    "root_speaker = {}\n",
    "for ix, row in df_clean[df_clean[\"utterance_idx\"] == 2][[\"conv_id\", \"speaker_idx\"]].iterrows():\n",
    "    root_speaker[row.conv_id] = row.speaker_idx"
   ]
  },
  {
   "cell_type": "code",
   "execution_count": 32,
   "id": "bc4b6371-e3eb-40a8-9ac7-798208a01a55",
   "metadata": {},
   "outputs": [],
   "source": [
    "df_empathetic = pd.DataFrame({\"utterance\": [], \"context\": []})\n",
    "for conv_id, speaker_idx in root_speaker.items():\n",
    "    sample = df_clean[(df_clean[\"conv_id\"] == conv_id) & (df_clean[\"speaker_idx\"] == speaker_idx)][[\"utterance\",\"context\", \"selfeval_grouped\"]]\n",
    "    df_empathetic = pd.concat([df_empathetic, sample], axis=0)"
   ]
  },
  {
   "cell_type": "code",
   "execution_count": 33,
   "id": "00a3f523-2922-44d3-b538-e27827c7f8dc",
   "metadata": {},
   "outputs": [
    {
     "data": {
      "text/plain": [
       "(39674, 3)"
      ]
     },
     "execution_count": 33,
     "metadata": {},
     "output_type": "execute_result"
    }
   ],
   "source": [
    "df_empathetic.shape"
   ]
  },
  {
   "cell_type": "code",
   "execution_count": 46,
   "id": "32a6f39e-b8e4-4243-bc86-e9c45eefc324",
   "metadata": {},
   "outputs": [
    {
     "data": {
      "text/html": [
       "<div>\n",
       "<style scoped>\n",
       "    .dataframe tbody tr th:only-of-type {\n",
       "        vertical-align: middle;\n",
       "    }\n",
       "\n",
       "    .dataframe tbody tr th {\n",
       "        vertical-align: top;\n",
       "    }\n",
       "\n",
       "    .dataframe thead th {\n",
       "        text-align: right;\n",
       "    }\n",
       "</style>\n",
       "<table border=\"1\" class=\"dataframe\">\n",
       "  <thead>\n",
       "    <tr style=\"text-align: right;\">\n",
       "      <th></th>\n",
       "      <th>utterance</th>\n",
       "      <th>context</th>\n",
       "      <th>selfeval_grouped</th>\n",
       "    </tr>\n",
       "  </thead>\n",
       "  <tbody>\n",
       "    <tr>\n",
       "      <th>1</th>\n",
       "      <td>Was this a friend you were in love with_comma_...</td>\n",
       "      <td>sentimental</td>\n",
       "      <td>2</td>\n",
       "    </tr>\n",
       "    <tr>\n",
       "      <th>3</th>\n",
       "      <td>Where has she gone?</td>\n",
       "      <td>sentimental</td>\n",
       "      <td>2</td>\n",
       "    </tr>\n",
       "    <tr>\n",
       "      <th>5</th>\n",
       "      <td>Oh was this something that happened because of...</td>\n",
       "      <td>sentimental</td>\n",
       "      <td>2</td>\n",
       "    </tr>\n",
       "    <tr>\n",
       "      <th>7</th>\n",
       "      <td>Oh ya? I don't really see how</td>\n",
       "      <td>afraid</td>\n",
       "      <td>3</td>\n",
       "    </tr>\n",
       "    <tr>\n",
       "      <th>9</th>\n",
       "      <td>I do actually hit blank walls a lot of times b...</td>\n",
       "      <td>afraid</td>\n",
       "      <td>3</td>\n",
       "    </tr>\n",
       "  </tbody>\n",
       "</table>\n",
       "</div>"
      ],
      "text/plain": [
       "                                           utterance      context  \\\n",
       "1  Was this a friend you were in love with_comma_...  sentimental   \n",
       "3                                Where has she gone?  sentimental   \n",
       "5  Oh was this something that happened because of...  sentimental   \n",
       "7                      Oh ya? I don't really see how       afraid   \n",
       "9  I do actually hit blank walls a lot of times b...       afraid   \n",
       "\n",
       "   selfeval_grouped  \n",
       "1                 2  \n",
       "3                 2  \n",
       "5                 2  \n",
       "7                 3  \n",
       "9                 3  "
      ]
     },
     "execution_count": 46,
     "metadata": {},
     "output_type": "execute_result"
    }
   ],
   "source": [
    "df_empathetic.head()"
   ]
  },
  {
   "cell_type": "code",
   "execution_count": 49,
   "id": "89ee0506-1a56-4f8e-b3e1-c0da418c18ea",
   "metadata": {},
   "outputs": [
    {
     "data": {
      "text/plain": [
       "<AxesSubplot:xlabel='selfeval_grouped', ylabel='Count'>"
      ]
     },
     "execution_count": 49,
     "metadata": {},
     "output_type": "execute_result"
    },
    {
     "data": {
      "image/png": "[encoded data removed]",
      "text/plain": [
       "<Figure size 842.4x595.44 with 1 Axes>"
      ]
     },
     "metadata": {},
     "output_type": "display_data"
    }
   ],
   "source": [
    "sns.histplot(df_empathetic[\"selfeval_grouped\"], discrete=True)"
   ]
  },
  {
   "cell_type": "code",
   "execution_count": 47,
   "id": "dd668ce0-982b-49e7-8edd-cdf24a754adf",
   "metadata": {},
   "outputs": [],
   "source": [
    "df_empathetic.to_csv(\"data/preprocessed/empathy_assessment.csv\", index=False)"
   ]
  },
  {
   "cell_type": "code",
   "execution_count": 1,
   "id": "af867b7d-c2bc-484b-be87-7705e8219f48",
   "metadata": {},
   "outputs": [
    {
     "data": {
      "text/html": [
       "<div>\n",
       "<style scoped>\n",
       "    .dataframe tbody tr th:only-of-type {\n",
       "        vertical-align: middle;\n",
       "    }\n",
       "\n",
       "    .dataframe tbody tr th {\n",
       "        vertical-align: top;\n",
       "    }\n",
       "\n",
       "    .dataframe thead th {\n",
       "        text-align: right;\n",
       "    }\n",
       "</style>\n",
       "<table border=\"1\" class=\"dataframe\">\n",
       "  <thead>\n",
       "    <tr style=\"text-align: right;\">\n",
       "      <th></th>\n",
       "      <th>utterance</th>\n",
       "      <th>context</th>\n",
       "      <th>selfeval_grouped</th>\n",
       "    </tr>\n",
       "  </thead>\n",
       "  <tbody>\n",
       "    <tr>\n",
       "      <th>0</th>\n",
       "      <td>Was this a friend you were in love with_comma_...</td>\n",
       "      <td>sentimental</td>\n",
       "      <td>2</td>\n",
       "    </tr>\n",
       "    <tr>\n",
       "      <th>1</th>\n",
       "      <td>Where has she gone?</td>\n",
       "      <td>sentimental</td>\n",
       "      <td>2</td>\n",
       "    </tr>\n",
       "    <tr>\n",
       "      <th>2</th>\n",
       "      <td>Oh was this something that happened because of...</td>\n",
       "      <td>sentimental</td>\n",
       "      <td>2</td>\n",
       "    </tr>\n",
       "    <tr>\n",
       "      <th>3</th>\n",
       "      <td>Oh ya? I don't really see how</td>\n",
       "      <td>afraid</td>\n",
       "      <td>3</td>\n",
       "    </tr>\n",
       "    <tr>\n",
       "      <th>4</th>\n",
       "      <td>I do actually hit blank walls a lot of times b...</td>\n",
       "      <td>afraid</td>\n",
       "      <td>3</td>\n",
       "    </tr>\n",
       "  </tbody>\n",
       "</table>\n",
       "</div>"
      ],
      "text/plain": [
       "                                           utterance      context  \\\n",
       "0  Was this a friend you were in love with_comma_...  sentimental   \n",
       "1                                Where has she gone?  sentimental   \n",
       "2  Oh was this something that happened because of...  sentimental   \n",
       "3                      Oh ya? I don't really see how       afraid   \n",
       "4  I do actually hit blank walls a lot of times b...       afraid   \n",
       "\n",
       "   selfeval_grouped  \n",
       "0                 2  \n",
       "1                 2  \n",
       "2                 2  \n",
       "3                 3  \n",
       "4                 3  "
      ]
     },
     "execution_count": 1,
     "metadata": {},
     "output_type": "execute_result"
    }
   ],
   "source": [
    "import pandas as pd\n",
    "\n",
    "df_empathetic = pd.read_csv(\"data/preprocessed/empathy_assessment.csv\")\n",
    "df_empathetic.head()"
   ]
  },
  {
   "cell_type": "code",
   "execution_count": 5,
   "id": "05a5d34f-0e2c-474f-b177-75d05a36c9d1",
   "metadata": {},
   "outputs": [
    {
     "data": {
      "text/plain": [
       "True     0.649317\n",
       "False    0.350683\n",
       "Name: selfeval_grouped, dtype: float64"
      ]
     },
     "execution_count": 5,
     "metadata": {},
     "output_type": "execute_result"
    }
   ],
   "source": [
    "max_val = df_empathetic[\"selfeval_grouped\"] == 5\n",
    "max_val.value_counts(normalize=True)"
   ]
  }
 ],
 "metadata": {
  "kernelspec": {
   "display_name": "Python 3",
   "language": "python",
   "name": "python3"
  },
  "language_info": {
   "codemirror_mode": {
    "name": "ipython",
    "version": 3
   },
   "file_extension": ".py",
   "mimetype": "text/x-python",
   "name": "python",
   "nbconvert_exporter": "python",
   "pygments_lexer": "ipython3",
   "version": "3.8.5"
  }
 },
 "nbformat": 4,
 "nbformat_minor": 5
}
